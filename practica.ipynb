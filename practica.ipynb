{
 "cells": [
  {
   "attachments": {},
   "cell_type": "markdown",
   "metadata": {},
   "source": [
    "# Practiquemos para el CheckPoint Modulo 2\n",
    "\n",
    "![Pic](https://img.freepik.com/vector-gratis/icono-isometrico-tecnologia-informatica-sala-servidores-conjunto-dispositivos-digitales-elemento-diseno-computadora-portatil-pc_39422-1026.jpg?w=740&t=st=1675884734~exp=1675885334~hmac=f016d6a576614263e7ac80cc477af8cea31d280765e16388ca5858d4b595657e)"
   ]
  },
  {
   "attachments": {},
   "cell_type": "markdown",
   "metadata": {},
   "source": [
    "Marca verdadero o falso.\n",
    "\n",
    "1) La KPI es una métrica importante para evaluar el éxito de un negocio."
   ]
  },
  {
   "attachments": {},
   "cell_type": "markdown",
   "metadata": {},
   "source": [
    "2) El LTV se refiere al costo de adquisición de un cliente."
   ]
  },
  {
   "attachments": {},
   "cell_type": "markdown",
   "metadata": {},
   "source": [
    "3) El CAC es el costo total de adquirir un cliente."
   ]
  },
  {
   "attachments": {},
   "cell_type": "markdown",
   "metadata": {},
   "source": [
    "4) La probabilidad de que un evento sea independiente de otro es 1. "
   ]
  },
  {
   "attachments": {},
   "cell_type": "markdown",
   "metadata": {},
   "source": [
    "5) ¿Qué es el conversion rate?:  \n",
    "a- El porcentaje de visitas a un sitio web que resultan en una conversión  \n",
    "b- El costo total de adquirir un cliente  \n",
    "c- El costo por conversión"
   ]
  },
  {
   "attachments": {},
   "cell_type": "markdown",
   "metadata": {},
   "source": [
    "6) ¿Qué es el churn rate?:  \n",
    "a- El porcentaje de clientes que se van \n",
    "b- El porcentaje de clientes satisfechos con el producto \n",
    "c- El porcentaje de visitas a un sitio web que resultan en una conversión\n"
   ]
  },
  {
   "attachments": {},
   "cell_type": "markdown",
   "metadata": {},
   "source": [
    "7) ¿Cuál es el KPI a utilizar si una empresa de servicio de Streaming (Netflix, Prime Video, etc) quisiera saber si este mes tuvieron una baja tasa de cancelación de suscripciones?  \n",
    "a- LTV  \n",
    "b- CAC  \n",
    "c- Conversion rate  \n",
    "d- Churn Rate"
   ]
  },
  {
   "attachments": {},
   "cell_type": "markdown",
   "metadata": {},
   "source": [
    "### Ahora formulemos con Python las siguiente preguntas"
   ]
  },
  {
   "attachments": {},
   "cell_type": "markdown",
   "metadata": {},
   "source": [
    "8) Una moneda es lanzada 3 veces. ¿Cuál es la probabilidad de que salga cara en 3 ocasiones?"
   ]
  },
  {
   "cell_type": "code",
   "execution_count": null,
   "metadata": {},
   "outputs": [],
   "source": []
  },
  {
   "attachments": {},
   "cell_type": "markdown",
   "metadata": {},
   "source": [
    "9) Una urna contiene 4 bolas blancas y 6 bolas negras. Si se eligen dos bolas al azar, ¿cuál es la probabilidad de que ambas sean blancas?"
   ]
  },
  {
   "cell_type": "code",
   "execution_count": null,
   "metadata": {},
   "outputs": [],
   "source": []
  },
  {
   "attachments": {},
   "cell_type": "markdown",
   "metadata": {},
   "source": [
    "10) Si tenemos 2 eventos A y B, y la probabilidad de A es de 0.6 y la probabilidad de B es de 0.7, ¿cuál es la probabilidad de que ambos eventos ocurran?"
   ]
  },
  {
   "cell_type": "code",
   "execution_count": null,
   "metadata": {},
   "outputs": [],
   "source": []
  },
  {
   "attachments": {},
   "cell_type": "markdown",
   "metadata": {},
   "source": [
    "11) Si tenemos una urna con 4 bolas rojas y 6 bolas azules, ¿cuál es la probabilidad de seleccionar una bola roja y luego una bola azul?"
   ]
  },
  {
   "cell_type": "code",
   "execution_count": null,
   "metadata": {},
   "outputs": [],
   "source": []
  },
  {
   "attachments": {},
   "cell_type": "markdown",
   "metadata": {},
   "source": [
    "### Consulta a la base de datos\n",
    "\n",
    "Recuerda poner las respuesta con la consulta de MySQL"
   ]
  },
  {
   "attachments": {},
   "cell_type": "markdown",
   "metadata": {},
   "source": [
    "12) ¿Cuántos productos se vendieron en el último año?"
   ]
  },
  {
   "cell_type": "code",
   "execution_count": null,
   "metadata": {},
   "outputs": [],
   "source": []
  },
  {
   "attachments": {},
   "cell_type": "markdown",
   "metadata": {},
   "source": [
    "13) ¿Cuántos clientes han comprado más de 3 productos en los últimos 2 años?"
   ]
  },
  {
   "cell_type": "code",
   "execution_count": null,
   "metadata": {},
   "outputs": [],
   "source": []
  },
  {
   "attachments": {},
   "cell_type": "markdown",
   "metadata": {},
   "source": [
    "14) ¿Cuál es el promedio de los precios de los productos vendidos en los últimos 5 años?"
   ]
  },
  {
   "cell_type": "code",
   "execution_count": null,
   "metadata": {},
   "outputs": [],
   "source": []
  }
 ],
 "metadata": {
  "kernelspec": {
   "display_name": "Python 3",
   "language": "python",
   "name": "python3"
  },
  "language_info": {
   "codemirror_mode": {
    "name": "ipython",
    "version": 3
   },
   "file_extension": ".py",
   "mimetype": "text/x-python",
   "name": "python",
   "nbconvert_exporter": "python",
   "pygments_lexer": "ipython3",
   "version": "3.11.1"
  },
  "orig_nbformat": 4,
  "vscode": {
   "interpreter": {
    "hash": "dbe5968ebd87453f76702a7b2e0ce35c6e273bbfb967aa19539436dec240f20d"
   }
  }
 },
 "nbformat": 4,
 "nbformat_minor": 2
}
